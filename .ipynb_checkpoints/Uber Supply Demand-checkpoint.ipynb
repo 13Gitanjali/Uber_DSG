{
 "cells": [
  {
   "cell_type": "code",
   "execution_count": 1,
   "metadata": {},
   "outputs": [],
   "source": [
    "# supress warnings\n",
    "import warnings\n",
    "warnings.filterwarnings('ignore')"
   ]
  },
  {
   "cell_type": "code",
   "execution_count": 2,
   "metadata": {},
   "outputs": [],
   "source": [
    "# Importing the packages\n",
    "\n",
    "import numpy as np\n",
    "import pandas as pd\n",
    "import datetime as dt\n",
    "import matplotlib.pyplot as plt\n",
    "import seaborn as sns"
   ]
  },
  {
   "cell_type": "markdown",
   "metadata": {},
   "source": [
    "### Data sourcing"
   ]
  },
  {
   "cell_type": "code",
   "execution_count": 3,
   "metadata": {},
   "outputs": [
    {
     "data": {
      "text/html": [
       "<div>\n",
       "<style scoped>\n",
       "    .dataframe tbody tr th:only-of-type {\n",
       "        vertical-align: middle;\n",
       "    }\n",
       "\n",
       "    .dataframe tbody tr th {\n",
       "        vertical-align: top;\n",
       "    }\n",
       "\n",
       "    .dataframe thead th {\n",
       "        text-align: right;\n",
       "    }\n",
       "</style>\n",
       "<table border=\"1\" class=\"dataframe\">\n",
       "  <thead>\n",
       "    <tr style=\"text-align: right;\">\n",
       "      <th></th>\n",
       "      <th>Request id</th>\n",
       "      <th>Pickup point</th>\n",
       "      <th>Driver id</th>\n",
       "      <th>Status</th>\n",
       "      <th>Request timestamp</th>\n",
       "      <th>Drop timestamp</th>\n",
       "    </tr>\n",
       "  </thead>\n",
       "  <tbody>\n",
       "    <tr>\n",
       "      <th>0</th>\n",
       "      <td>619</td>\n",
       "      <td>Airport</td>\n",
       "      <td>1.0</td>\n",
       "      <td>Trip Completed</td>\n",
       "      <td>11/7/2016 11:51</td>\n",
       "      <td>11/7/2016 13:00</td>\n",
       "    </tr>\n",
       "    <tr>\n",
       "      <th>1</th>\n",
       "      <td>867</td>\n",
       "      <td>Airport</td>\n",
       "      <td>1.0</td>\n",
       "      <td>Trip Completed</td>\n",
       "      <td>11/7/2016 17:57</td>\n",
       "      <td>11/7/2016 18:47</td>\n",
       "    </tr>\n",
       "    <tr>\n",
       "      <th>2</th>\n",
       "      <td>1807</td>\n",
       "      <td>City</td>\n",
       "      <td>1.0</td>\n",
       "      <td>Trip Completed</td>\n",
       "      <td>12/7/2016 9:17</td>\n",
       "      <td>12/7/2016 9:58</td>\n",
       "    </tr>\n",
       "    <tr>\n",
       "      <th>3</th>\n",
       "      <td>2532</td>\n",
       "      <td>Airport</td>\n",
       "      <td>1.0</td>\n",
       "      <td>Trip Completed</td>\n",
       "      <td>12/7/2016 21:08</td>\n",
       "      <td>12/7/2016 22:03</td>\n",
       "    </tr>\n",
       "    <tr>\n",
       "      <th>4</th>\n",
       "      <td>3112</td>\n",
       "      <td>City</td>\n",
       "      <td>1.0</td>\n",
       "      <td>Trip Completed</td>\n",
       "      <td>13-07-2016 08:33:16</td>\n",
       "      <td>13-07-2016 09:25:47</td>\n",
       "    </tr>\n",
       "  </tbody>\n",
       "</table>\n",
       "</div>"
      ],
      "text/plain": [
       "   Request id Pickup point  Driver id          Status    Request timestamp  \\\n",
       "0         619      Airport        1.0  Trip Completed      11/7/2016 11:51   \n",
       "1         867      Airport        1.0  Trip Completed      11/7/2016 17:57   \n",
       "2        1807         City        1.0  Trip Completed       12/7/2016 9:17   \n",
       "3        2532      Airport        1.0  Trip Completed      12/7/2016 21:08   \n",
       "4        3112         City        1.0  Trip Completed  13-07-2016 08:33:16   \n",
       "\n",
       "        Drop timestamp  \n",
       "0      11/7/2016 13:00  \n",
       "1      11/7/2016 18:47  \n",
       "2       12/7/2016 9:58  \n",
       "3      12/7/2016 22:03  \n",
       "4  13-07-2016 09:25:47  "
      ]
     },
     "execution_count": 3,
     "metadata": {},
     "output_type": "execute_result"
    }
   ],
   "source": [
    "# Importing the csv file here\n",
    "uber = pd.read_csv(\"Uber Request Data.csv\")\n",
    "uber.head()"
   ]
  },
  {
   "cell_type": "code",
   "execution_count": 4,
   "metadata": {},
   "outputs": [
    {
     "name": "stdout",
     "output_type": "stream",
     "text": [
      "(6745, 6)\n",
      "<class 'pandas.core.frame.DataFrame'>\n",
      "RangeIndex: 6745 entries, 0 to 6744\n",
      "Data columns (total 6 columns):\n",
      " #   Column             Non-Null Count  Dtype  \n",
      "---  ------             --------------  -----  \n",
      " 0   Request id         6745 non-null   int64  \n",
      " 1   Pickup point       6745 non-null   object \n",
      " 2   Driver id          4095 non-null   float64\n",
      " 3   Status             6745 non-null   object \n",
      " 4   Request timestamp  6745 non-null   object \n",
      " 5   Drop timestamp     2831 non-null   object \n",
      "dtypes: float64(1), int64(1), object(4)\n",
      "memory usage: 316.3+ KB\n",
      "None\n",
      "        Request id    Driver id\n",
      "count  6745.000000  4095.000000\n",
      "mean   3384.644922   149.501343\n",
      "std    1955.099667    86.051994\n",
      "min       1.000000     1.000000\n",
      "25%    1691.000000    75.000000\n",
      "50%    3387.000000   149.000000\n",
      "75%    5080.000000   224.000000\n",
      "max    6766.000000   300.000000\n"
     ]
    }
   ],
   "source": [
    "#Inspecting the dataframe\n",
    "print(uber.shape)\n",
    "print(uber.info())\n",
    "print(uber.describe())"
   ]
  },
  {
   "cell_type": "markdown",
   "metadata": {},
   "source": [
    "### Checking for data quality issues and cleaning"
   ]
  },
  {
   "cell_type": "code",
   "execution_count": 6,
   "metadata": {},
   "outputs": [
    {
     "data": {
      "text/html": [
       "<div>\n",
       "<style scoped>\n",
       "    .dataframe tbody tr th:only-of-type {\n",
       "        vertical-align: middle;\n",
       "    }\n",
       "\n",
       "    .dataframe tbody tr th {\n",
       "        vertical-align: top;\n",
       "    }\n",
       "\n",
       "    .dataframe thead th {\n",
       "        text-align: right;\n",
       "    }\n",
       "</style>\n",
       "<table border=\"1\" class=\"dataframe\">\n",
       "  <thead>\n",
       "    <tr style=\"text-align: right;\">\n",
       "      <th></th>\n",
       "      <th>Request_id</th>\n",
       "      <th>Pickup_point</th>\n",
       "      <th>Driver_id</th>\n",
       "      <th>Status</th>\n",
       "      <th>Request_timestamp</th>\n",
       "      <th>Drop_timestamp</th>\n",
       "    </tr>\n",
       "  </thead>\n",
       "  <tbody>\n",
       "    <tr>\n",
       "      <th>0</th>\n",
       "      <td>619</td>\n",
       "      <td>Airport</td>\n",
       "      <td>1.0</td>\n",
       "      <td>Trip Completed</td>\n",
       "      <td>11/7/2016 11:51</td>\n",
       "      <td>11/7/2016 13:00</td>\n",
       "    </tr>\n",
       "    <tr>\n",
       "      <th>1</th>\n",
       "      <td>867</td>\n",
       "      <td>Airport</td>\n",
       "      <td>1.0</td>\n",
       "      <td>Trip Completed</td>\n",
       "      <td>11/7/2016 17:57</td>\n",
       "      <td>11/7/2016 18:47</td>\n",
       "    </tr>\n",
       "    <tr>\n",
       "      <th>2</th>\n",
       "      <td>1807</td>\n",
       "      <td>City</td>\n",
       "      <td>1.0</td>\n",
       "      <td>Trip Completed</td>\n",
       "      <td>12/7/2016 9:17</td>\n",
       "      <td>12/7/2016 9:58</td>\n",
       "    </tr>\n",
       "    <tr>\n",
       "      <th>3</th>\n",
       "      <td>2532</td>\n",
       "      <td>Airport</td>\n",
       "      <td>1.0</td>\n",
       "      <td>Trip Completed</td>\n",
       "      <td>12/7/2016 21:08</td>\n",
       "      <td>12/7/2016 22:03</td>\n",
       "    </tr>\n",
       "    <tr>\n",
       "      <th>4</th>\n",
       "      <td>3112</td>\n",
       "      <td>City</td>\n",
       "      <td>1.0</td>\n",
       "      <td>Trip Completed</td>\n",
       "      <td>13-07-2016 08:33:16</td>\n",
       "      <td>13-07-2016 09:25:47</td>\n",
       "    </tr>\n",
       "  </tbody>\n",
       "</table>\n",
       "</div>"
      ],
      "text/plain": [
       "   Request_id Pickup_point  Driver_id          Status    Request_timestamp  \\\n",
       "0         619      Airport        1.0  Trip Completed      11/7/2016 11:51   \n",
       "1         867      Airport        1.0  Trip Completed      11/7/2016 17:57   \n",
       "2        1807         City        1.0  Trip Completed       12/7/2016 9:17   \n",
       "3        2532      Airport        1.0  Trip Completed      12/7/2016 21:08   \n",
       "4        3112         City        1.0  Trip Completed  13-07-2016 08:33:16   \n",
       "\n",
       "        Drop_timestamp  \n",
       "0      11/7/2016 13:00  \n",
       "1      11/7/2016 18:47  \n",
       "2       12/7/2016 9:58  \n",
       "3      12/7/2016 22:03  \n",
       "4  13-07-2016 09:25:47  "
      ]
     },
     "execution_count": 6,
     "metadata": {},
     "output_type": "execute_result"
    }
   ],
   "source": [
    "#replacing space in column with '_'\n",
    "uber.columns = uber.columns.str.replace(' ', '_')\n",
    "uber.head()"
   ]
  },
  {
   "cell_type": "code",
   "execution_count": 7,
   "metadata": {},
   "outputs": [
    {
     "data": {
      "text/plain": [
       "0"
      ]
     },
     "execution_count": 7,
     "metadata": {},
     "output_type": "execute_result"
    }
   ],
   "source": [
    "#checking for any duplicate rows\n",
    "uber.duplicated(subset='Request_id',keep= False).sum()"
   ]
  },
  {
   "cell_type": "code",
   "execution_count": 8,
   "metadata": {},
   "outputs": [
    {
     "data": {
      "text/plain": [
       "array(['Airport', 'City'], dtype=object)"
      ]
     },
     "execution_count": 8,
     "metadata": {},
     "output_type": "execute_result"
    }
   ],
   "source": [
    "#checking for any spelling mistake in Pickup point\n",
    "uber['Pickup_point'].unique()\n",
    "#no spelling mistake"
   ]
  },
  {
   "cell_type": "code",
   "execution_count": 9,
   "metadata": {},
   "outputs": [
    {
     "data": {
      "text/plain": [
       "array(['Trip Completed', 'Cancelled', 'No Cars Available'], dtype=object)"
      ]
     },
     "execution_count": 9,
     "metadata": {},
     "output_type": "execute_result"
    }
   ],
   "source": [
    "#checking for any spelling mistake in status\n",
    "uber['Status'].unique()\n",
    "#no spelling mistake"
   ]
  },
  {
   "cell_type": "code",
   "execution_count": 11,
   "metadata": {},
   "outputs": [
    {
     "data": {
      "text/plain": [
       "Request_id              0\n",
       "Pickup_point            0\n",
       "Driver_id            2650\n",
       "Status                  0\n",
       "Request_timestamp       0\n",
       "Drop_timestamp       3914\n",
       "dtype: int64"
      ]
     },
     "execution_count": 11,
     "metadata": {},
     "output_type": "execute_result"
    }
   ],
   "source": [
    "#Inspecting Null values\n",
    "uber.isnull().sum()\n",
    "# It looks valid to have driver id and drop timestamp to have null values.\n",
    "#Hence these null values are retained as such in the data."
   ]
  },
  {
   "cell_type": "code",
   "execution_count": 12,
   "metadata": {},
   "outputs": [
    {
     "data": {
      "text/html": [
       "<div>\n",
       "<style scoped>\n",
       "    .dataframe tbody tr th:only-of-type {\n",
       "        vertical-align: middle;\n",
       "    }\n",
       "\n",
       "    .dataframe tbody tr th {\n",
       "        vertical-align: top;\n",
       "    }\n",
       "\n",
       "    .dataframe thead th {\n",
       "        text-align: right;\n",
       "    }\n",
       "</style>\n",
       "<table border=\"1\" class=\"dataframe\">\n",
       "  <thead>\n",
       "    <tr style=\"text-align: right;\">\n",
       "      <th></th>\n",
       "      <th>Request_id</th>\n",
       "      <th>Pickup_point</th>\n",
       "      <th>Driver_id</th>\n",
       "      <th>Status</th>\n",
       "      <th>Request_timestamp</th>\n",
       "      <th>Drop_timestamp</th>\n",
       "    </tr>\n",
       "  </thead>\n",
       "  <tbody>\n",
       "    <tr>\n",
       "      <th>0</th>\n",
       "      <td>619</td>\n",
       "      <td>Airport</td>\n",
       "      <td>1.0</td>\n",
       "      <td>Trip Completed</td>\n",
       "      <td>11/7/2016 11:51</td>\n",
       "      <td>11/7/2016 13:00</td>\n",
       "    </tr>\n",
       "    <tr>\n",
       "      <th>1</th>\n",
       "      <td>867</td>\n",
       "      <td>Airport</td>\n",
       "      <td>1.0</td>\n",
       "      <td>Trip Completed</td>\n",
       "      <td>11/7/2016 17:57</td>\n",
       "      <td>11/7/2016 18:47</td>\n",
       "    </tr>\n",
       "    <tr>\n",
       "      <th>2</th>\n",
       "      <td>1807</td>\n",
       "      <td>City</td>\n",
       "      <td>1.0</td>\n",
       "      <td>Trip Completed</td>\n",
       "      <td>12/7/2016 9:17</td>\n",
       "      <td>12/7/2016 9:58</td>\n",
       "    </tr>\n",
       "    <tr>\n",
       "      <th>3</th>\n",
       "      <td>2532</td>\n",
       "      <td>Airport</td>\n",
       "      <td>1.0</td>\n",
       "      <td>Trip Completed</td>\n",
       "      <td>12/7/2016 21:08</td>\n",
       "      <td>12/7/2016 22:03</td>\n",
       "    </tr>\n",
       "    <tr>\n",
       "      <th>4</th>\n",
       "      <td>3112</td>\n",
       "      <td>City</td>\n",
       "      <td>1.0</td>\n",
       "      <td>Trip Completed</td>\n",
       "      <td>13-07-2016 08:33:16</td>\n",
       "      <td>13-07-2016 09:25:47</td>\n",
       "    </tr>\n",
       "  </tbody>\n",
       "</table>\n",
       "</div>"
      ],
      "text/plain": [
       "   Request_id Pickup_point  Driver_id          Status    Request_timestamp  \\\n",
       "0         619      Airport        1.0  Trip Completed      11/7/2016 11:51   \n",
       "1         867      Airport        1.0  Trip Completed      11/7/2016 17:57   \n",
       "2        1807         City        1.0  Trip Completed       12/7/2016 9:17   \n",
       "3        2532      Airport        1.0  Trip Completed      12/7/2016 21:08   \n",
       "4        3112         City        1.0  Trip Completed  13-07-2016 08:33:16   \n",
       "\n",
       "        Drop_timestamp  \n",
       "0      11/7/2016 13:00  \n",
       "1      11/7/2016 18:47  \n",
       "2       12/7/2016 9:58  \n",
       "3      12/7/2016 22:03  \n",
       "4  13-07-2016 09:25:47  "
      ]
     },
     "execution_count": 12,
     "metadata": {},
     "output_type": "execute_result"
    }
   ],
   "source": [
    "uber.head()"
   ]
  },
  {
   "cell_type": "markdown",
   "metadata": {},
   "source": [
    "### Data preparation"
   ]
  },
  {
   "cell_type": "code",
   "execution_count": 13,
   "metadata": {},
   "outputs": [
    {
     "data": {
      "text/html": [
       "<div>\n",
       "<style scoped>\n",
       "    .dataframe tbody tr th:only-of-type {\n",
       "        vertical-align: middle;\n",
       "    }\n",
       "\n",
       "    .dataframe tbody tr th {\n",
       "        vertical-align: top;\n",
       "    }\n",
       "\n",
       "    .dataframe thead th {\n",
       "        text-align: right;\n",
       "    }\n",
       "</style>\n",
       "<table border=\"1\" class=\"dataframe\">\n",
       "  <thead>\n",
       "    <tr style=\"text-align: right;\">\n",
       "      <th></th>\n",
       "      <th>Request_id</th>\n",
       "      <th>Pickup_point</th>\n",
       "      <th>Driver_id</th>\n",
       "      <th>Status</th>\n",
       "      <th>Request_timestamp</th>\n",
       "      <th>Drop_timestamp</th>\n",
       "      <th>request_Date_Time</th>\n",
       "      <th>drop_Date_Time</th>\n",
       "    </tr>\n",
       "  </thead>\n",
       "  <tbody>\n",
       "    <tr>\n",
       "      <th>0</th>\n",
       "      <td>619</td>\n",
       "      <td>Airport</td>\n",
       "      <td>1.0</td>\n",
       "      <td>Trip Completed</td>\n",
       "      <td>11/7/2016 11:51</td>\n",
       "      <td>11/7/2016 13:00</td>\n",
       "      <td>2016-07-11 11:51:00</td>\n",
       "      <td>2016-07-11 13:00:00</td>\n",
       "    </tr>\n",
       "    <tr>\n",
       "      <th>1</th>\n",
       "      <td>867</td>\n",
       "      <td>Airport</td>\n",
       "      <td>1.0</td>\n",
       "      <td>Trip Completed</td>\n",
       "      <td>11/7/2016 17:57</td>\n",
       "      <td>11/7/2016 18:47</td>\n",
       "      <td>2016-07-11 17:57:00</td>\n",
       "      <td>2016-07-11 18:47:00</td>\n",
       "    </tr>\n",
       "    <tr>\n",
       "      <th>2</th>\n",
       "      <td>1807</td>\n",
       "      <td>City</td>\n",
       "      <td>1.0</td>\n",
       "      <td>Trip Completed</td>\n",
       "      <td>12/7/2016 9:17</td>\n",
       "      <td>12/7/2016 9:58</td>\n",
       "      <td>2016-07-12 09:17:00</td>\n",
       "      <td>2016-07-12 09:58:00</td>\n",
       "    </tr>\n",
       "    <tr>\n",
       "      <th>3</th>\n",
       "      <td>2532</td>\n",
       "      <td>Airport</td>\n",
       "      <td>1.0</td>\n",
       "      <td>Trip Completed</td>\n",
       "      <td>12/7/2016 21:08</td>\n",
       "      <td>12/7/2016 22:03</td>\n",
       "      <td>2016-07-12 21:08:00</td>\n",
       "      <td>2016-07-12 22:03:00</td>\n",
       "    </tr>\n",
       "    <tr>\n",
       "      <th>4</th>\n",
       "      <td>3112</td>\n",
       "      <td>City</td>\n",
       "      <td>1.0</td>\n",
       "      <td>Trip Completed</td>\n",
       "      <td>13-07-2016 08:33:16</td>\n",
       "      <td>13-07-2016 09:25:47</td>\n",
       "      <td>2016-07-13 08:33:16</td>\n",
       "      <td>2016-07-13 09:25:47</td>\n",
       "    </tr>\n",
       "  </tbody>\n",
       "</table>\n",
       "</div>"
      ],
      "text/plain": [
       "   Request_id Pickup_point  Driver_id          Status    Request_timestamp  \\\n",
       "0         619      Airport        1.0  Trip Completed      11/7/2016 11:51   \n",
       "1         867      Airport        1.0  Trip Completed      11/7/2016 17:57   \n",
       "2        1807         City        1.0  Trip Completed       12/7/2016 9:17   \n",
       "3        2532      Airport        1.0  Trip Completed      12/7/2016 21:08   \n",
       "4        3112         City        1.0  Trip Completed  13-07-2016 08:33:16   \n",
       "\n",
       "        Drop_timestamp   request_Date_Time      drop_Date_Time  \n",
       "0      11/7/2016 13:00 2016-07-11 11:51:00 2016-07-11 13:00:00  \n",
       "1      11/7/2016 18:47 2016-07-11 17:57:00 2016-07-11 18:47:00  \n",
       "2       12/7/2016 9:58 2016-07-12 09:17:00 2016-07-12 09:58:00  \n",
       "3      12/7/2016 22:03 2016-07-12 21:08:00 2016-07-12 22:03:00  \n",
       "4  13-07-2016 09:25:47 2016-07-13 08:33:16 2016-07-13 09:25:47  "
      ]
     },
     "execution_count": 13,
     "metadata": {},
     "output_type": "execute_result"
    }
   ],
   "source": [
    "#as we saw that'Request timestamp and Drop timestamp' is object type\n",
    "#converting Request timestamp and Drop timestamp to datetime type- by creating new columns\n",
    "\n",
    "uber['request_Date_Time'] = pd.to_datetime(uber['Request_timestamp'],dayfirst=True)\n",
    "uber['drop_Date_Time'] = pd.to_datetime(uber['Drop_timestamp'],dayfirst=True)\n",
    "uber.head(5)\n"
   ]
  },
  {
   "cell_type": "code",
   "execution_count": 15,
   "metadata": {},
   "outputs": [
    {
     "name": "stdout",
     "output_type": "stream",
     "text": [
      "<class 'pandas.core.frame.DataFrame'>\n",
      "RangeIndex: 6745 entries, 0 to 6744\n",
      "Data columns (total 6 columns):\n",
      " #   Column             Non-Null Count  Dtype         \n",
      "---  ------             --------------  -----         \n",
      " 0   Request_id         6745 non-null   int64         \n",
      " 1   Pickup_point       6745 non-null   object        \n",
      " 2   Driver_id          4095 non-null   float64       \n",
      " 3   Status             6745 non-null   object        \n",
      " 4   request_Date_Time  6745 non-null   datetime64[ns]\n",
      " 5   drop_Date_Time     2831 non-null   datetime64[ns]\n",
      "dtypes: datetime64[ns](2), float64(1), int64(1), object(2)\n",
      "memory usage: 316.3+ KB\n",
      "None\n"
     ]
    }
   ],
   "source": [
    "#checking if request_Date_Time and drop_Date_Time got converted to datetime type or not\n",
    "print(uber.info())"
   ]
  },
  {
   "cell_type": "code",
   "execution_count": 14,
   "metadata": {},
   "outputs": [
    {
     "data": {
      "text/html": [
       "<div>\n",
       "<style scoped>\n",
       "    .dataframe tbody tr th:only-of-type {\n",
       "        vertical-align: middle;\n",
       "    }\n",
       "\n",
       "    .dataframe tbody tr th {\n",
       "        vertical-align: top;\n",
       "    }\n",
       "\n",
       "    .dataframe thead th {\n",
       "        text-align: right;\n",
       "    }\n",
       "</style>\n",
       "<table border=\"1\" class=\"dataframe\">\n",
       "  <thead>\n",
       "    <tr style=\"text-align: right;\">\n",
       "      <th></th>\n",
       "      <th>Request_id</th>\n",
       "      <th>Pickup_point</th>\n",
       "      <th>Driver_id</th>\n",
       "      <th>Status</th>\n",
       "      <th>request_Date_Time</th>\n",
       "      <th>drop_Date_Time</th>\n",
       "    </tr>\n",
       "  </thead>\n",
       "  <tbody>\n",
       "    <tr>\n",
       "      <th>0</th>\n",
       "      <td>619</td>\n",
       "      <td>Airport</td>\n",
       "      <td>1.0</td>\n",
       "      <td>Trip Completed</td>\n",
       "      <td>2016-07-11 11:51:00</td>\n",
       "      <td>2016-07-11 13:00:00</td>\n",
       "    </tr>\n",
       "    <tr>\n",
       "      <th>1</th>\n",
       "      <td>867</td>\n",
       "      <td>Airport</td>\n",
       "      <td>1.0</td>\n",
       "      <td>Trip Completed</td>\n",
       "      <td>2016-07-11 17:57:00</td>\n",
       "      <td>2016-07-11 18:47:00</td>\n",
       "    </tr>\n",
       "    <tr>\n",
       "      <th>2</th>\n",
       "      <td>1807</td>\n",
       "      <td>City</td>\n",
       "      <td>1.0</td>\n",
       "      <td>Trip Completed</td>\n",
       "      <td>2016-07-12 09:17:00</td>\n",
       "      <td>2016-07-12 09:58:00</td>\n",
       "    </tr>\n",
       "    <tr>\n",
       "      <th>3</th>\n",
       "      <td>2532</td>\n",
       "      <td>Airport</td>\n",
       "      <td>1.0</td>\n",
       "      <td>Trip Completed</td>\n",
       "      <td>2016-07-12 21:08:00</td>\n",
       "      <td>2016-07-12 22:03:00</td>\n",
       "    </tr>\n",
       "    <tr>\n",
       "      <th>4</th>\n",
       "      <td>3112</td>\n",
       "      <td>City</td>\n",
       "      <td>1.0</td>\n",
       "      <td>Trip Completed</td>\n",
       "      <td>2016-07-13 08:33:16</td>\n",
       "      <td>2016-07-13 09:25:47</td>\n",
       "    </tr>\n",
       "  </tbody>\n",
       "</table>\n",
       "</div>"
      ],
      "text/plain": [
       "   Request_id Pickup_point  Driver_id          Status   request_Date_Time  \\\n",
       "0         619      Airport        1.0  Trip Completed 2016-07-11 11:51:00   \n",
       "1         867      Airport        1.0  Trip Completed 2016-07-11 17:57:00   \n",
       "2        1807         City        1.0  Trip Completed 2016-07-12 09:17:00   \n",
       "3        2532      Airport        1.0  Trip Completed 2016-07-12 21:08:00   \n",
       "4        3112         City        1.0  Trip Completed 2016-07-13 08:33:16   \n",
       "\n",
       "       drop_Date_Time  \n",
       "0 2016-07-11 13:00:00  \n",
       "1 2016-07-11 18:47:00  \n",
       "2 2016-07-12 09:58:00  \n",
       "3 2016-07-12 22:03:00  \n",
       "4 2016-07-13 09:25:47  "
      ]
     },
     "execution_count": 14,
     "metadata": {},
     "output_type": "execute_result"
    }
   ],
   "source": [
    "#dropping Request_timestamp column and Drop_timestamp  as it is not required any further\n",
    "uber = uber.drop('Request_timestamp', axis=1)\n",
    "uber = uber.drop('Drop_timestamp', axis=1)\n",
    "uber.head()"
   ]
  },
  {
   "cell_type": "code",
   "execution_count": 16,
   "metadata": {},
   "outputs": [
    {
     "name": "stdout",
     "output_type": "stream",
     "text": [
      "(6745, 6)\n",
      "<class 'pandas.core.frame.DataFrame'>\n",
      "RangeIndex: 6745 entries, 0 to 6744\n",
      "Data columns (total 6 columns):\n",
      " #   Column             Non-Null Count  Dtype         \n",
      "---  ------             --------------  -----         \n",
      " 0   Request_id         6745 non-null   int64         \n",
      " 1   Pickup_point       6745 non-null   object        \n",
      " 2   Driver_id          4095 non-null   float64       \n",
      " 3   Status             6745 non-null   object        \n",
      " 4   request_Date_Time  6745 non-null   datetime64[ns]\n",
      " 5   drop_Date_Time     2831 non-null   datetime64[ns]\n",
      "dtypes: datetime64[ns](2), float64(1), int64(1), object(2)\n",
      "memory usage: 316.3+ KB\n",
      "None\n"
     ]
    }
   ],
   "source": [
    "#Inspecting the dataframe after the drop\n",
    "print(uber.shape)\n",
    "print(uber.info())"
   ]
  },
  {
   "cell_type": "markdown",
   "metadata": {},
   "source": [
    "#### Data preparation:\n",
    "#### i)Handling request_Date_Time"
   ]
  },
  {
   "cell_type": "code",
   "execution_count": 17,
   "metadata": {},
   "outputs": [
    {
     "data": {
      "text/plain": [
       "0"
      ]
     },
     "execution_count": 17,
     "metadata": {},
     "output_type": "execute_result"
    }
   ],
   "source": [
    "#checking if there are any NA's coerced because of invalid values in request_Date_Time\n",
    "uber['request_Date_Time'].isna().sum()"
   ]
  },
  {
   "cell_type": "code",
   "execution_count": 18,
   "metadata": {},
   "outputs": [
    {
     "data": {
      "text/html": [
       "<div>\n",
       "<style scoped>\n",
       "    .dataframe tbody tr th:only-of-type {\n",
       "        vertical-align: middle;\n",
       "    }\n",
       "\n",
       "    .dataframe tbody tr th {\n",
       "        vertical-align: top;\n",
       "    }\n",
       "\n",
       "    .dataframe thead th {\n",
       "        text-align: right;\n",
       "    }\n",
       "</style>\n",
       "<table border=\"1\" class=\"dataframe\">\n",
       "  <thead>\n",
       "    <tr style=\"text-align: right;\">\n",
       "      <th></th>\n",
       "      <th>Request_id</th>\n",
       "      <th>Pickup_point</th>\n",
       "      <th>Driver_id</th>\n",
       "      <th>Status</th>\n",
       "      <th>request_Date_Time</th>\n",
       "      <th>drop_Date_Time</th>\n",
       "      <th>request_Date</th>\n",
       "      <th>request_Time</th>\n",
       "    </tr>\n",
       "  </thead>\n",
       "  <tbody>\n",
       "    <tr>\n",
       "      <th>0</th>\n",
       "      <td>619</td>\n",
       "      <td>Airport</td>\n",
       "      <td>1.0</td>\n",
       "      <td>Trip Completed</td>\n",
       "      <td>2016-07-11 11:51:00</td>\n",
       "      <td>2016-07-11 13:00:00</td>\n",
       "      <td>2016-07-11</td>\n",
       "      <td>11:51:00</td>\n",
       "    </tr>\n",
       "    <tr>\n",
       "      <th>1</th>\n",
       "      <td>867</td>\n",
       "      <td>Airport</td>\n",
       "      <td>1.0</td>\n",
       "      <td>Trip Completed</td>\n",
       "      <td>2016-07-11 17:57:00</td>\n",
       "      <td>2016-07-11 18:47:00</td>\n",
       "      <td>2016-07-11</td>\n",
       "      <td>17:57:00</td>\n",
       "    </tr>\n",
       "    <tr>\n",
       "      <th>2</th>\n",
       "      <td>1807</td>\n",
       "      <td>City</td>\n",
       "      <td>1.0</td>\n",
       "      <td>Trip Completed</td>\n",
       "      <td>2016-07-12 09:17:00</td>\n",
       "      <td>2016-07-12 09:58:00</td>\n",
       "      <td>2016-07-12</td>\n",
       "      <td>09:17:00</td>\n",
       "    </tr>\n",
       "    <tr>\n",
       "      <th>3</th>\n",
       "      <td>2532</td>\n",
       "      <td>Airport</td>\n",
       "      <td>1.0</td>\n",
       "      <td>Trip Completed</td>\n",
       "      <td>2016-07-12 21:08:00</td>\n",
       "      <td>2016-07-12 22:03:00</td>\n",
       "      <td>2016-07-12</td>\n",
       "      <td>21:08:00</td>\n",
       "    </tr>\n",
       "    <tr>\n",
       "      <th>4</th>\n",
       "      <td>3112</td>\n",
       "      <td>City</td>\n",
       "      <td>1.0</td>\n",
       "      <td>Trip Completed</td>\n",
       "      <td>2016-07-13 08:33:16</td>\n",
       "      <td>2016-07-13 09:25:47</td>\n",
       "      <td>2016-07-13</td>\n",
       "      <td>08:33:16</td>\n",
       "    </tr>\n",
       "    <tr>\n",
       "      <th>5</th>\n",
       "      <td>3879</td>\n",
       "      <td>Airport</td>\n",
       "      <td>1.0</td>\n",
       "      <td>Trip Completed</td>\n",
       "      <td>2016-07-13 21:57:28</td>\n",
       "      <td>2016-07-13 22:28:59</td>\n",
       "      <td>2016-07-13</td>\n",
       "      <td>21:57:28</td>\n",
       "    </tr>\n",
       "    <tr>\n",
       "      <th>6</th>\n",
       "      <td>4270</td>\n",
       "      <td>Airport</td>\n",
       "      <td>1.0</td>\n",
       "      <td>Trip Completed</td>\n",
       "      <td>2016-07-14 06:15:32</td>\n",
       "      <td>2016-07-14 07:13:15</td>\n",
       "      <td>2016-07-14</td>\n",
       "      <td>06:15:32</td>\n",
       "    </tr>\n",
       "    <tr>\n",
       "      <th>7</th>\n",
       "      <td>5510</td>\n",
       "      <td>Airport</td>\n",
       "      <td>1.0</td>\n",
       "      <td>Trip Completed</td>\n",
       "      <td>2016-07-15 05:11:52</td>\n",
       "      <td>2016-07-15 06:07:52</td>\n",
       "      <td>2016-07-15</td>\n",
       "      <td>05:11:52</td>\n",
       "    </tr>\n",
       "    <tr>\n",
       "      <th>8</th>\n",
       "      <td>6248</td>\n",
       "      <td>City</td>\n",
       "      <td>1.0</td>\n",
       "      <td>Trip Completed</td>\n",
       "      <td>2016-07-15 17:57:27</td>\n",
       "      <td>2016-07-15 18:50:51</td>\n",
       "      <td>2016-07-15</td>\n",
       "      <td>17:57:27</td>\n",
       "    </tr>\n",
       "    <tr>\n",
       "      <th>9</th>\n",
       "      <td>267</td>\n",
       "      <td>City</td>\n",
       "      <td>2.0</td>\n",
       "      <td>Trip Completed</td>\n",
       "      <td>2016-07-11 06:46:00</td>\n",
       "      <td>2016-07-11 07:25:00</td>\n",
       "      <td>2016-07-11</td>\n",
       "      <td>06:46:00</td>\n",
       "    </tr>\n",
       "  </tbody>\n",
       "</table>\n",
       "</div>"
      ],
      "text/plain": [
       "   Request_id Pickup_point  Driver_id          Status   request_Date_Time  \\\n",
       "0         619      Airport        1.0  Trip Completed 2016-07-11 11:51:00   \n",
       "1         867      Airport        1.0  Trip Completed 2016-07-11 17:57:00   \n",
       "2        1807         City        1.0  Trip Completed 2016-07-12 09:17:00   \n",
       "3        2532      Airport        1.0  Trip Completed 2016-07-12 21:08:00   \n",
       "4        3112         City        1.0  Trip Completed 2016-07-13 08:33:16   \n",
       "5        3879      Airport        1.0  Trip Completed 2016-07-13 21:57:28   \n",
       "6        4270      Airport        1.0  Trip Completed 2016-07-14 06:15:32   \n",
       "7        5510      Airport        1.0  Trip Completed 2016-07-15 05:11:52   \n",
       "8        6248         City        1.0  Trip Completed 2016-07-15 17:57:27   \n",
       "9         267         City        2.0  Trip Completed 2016-07-11 06:46:00   \n",
       "\n",
       "       drop_Date_Time request_Date request_Time  \n",
       "0 2016-07-11 13:00:00   2016-07-11     11:51:00  \n",
       "1 2016-07-11 18:47:00   2016-07-11     17:57:00  \n",
       "2 2016-07-12 09:58:00   2016-07-12     09:17:00  \n",
       "3 2016-07-12 22:03:00   2016-07-12     21:08:00  \n",
       "4 2016-07-13 09:25:47   2016-07-13     08:33:16  \n",
       "5 2016-07-13 22:28:59   2016-07-13     21:57:28  \n",
       "6 2016-07-14 07:13:15   2016-07-14     06:15:32  \n",
       "7 2016-07-15 06:07:52   2016-07-15     05:11:52  \n",
       "8 2016-07-15 18:50:51   2016-07-15     17:57:27  \n",
       "9 2016-07-11 07:25:00   2016-07-11     06:46:00  "
      ]
     },
     "execution_count": 18,
     "metadata": {},
     "output_type": "execute_result"
    }
   ],
   "source": [
    "#extracting date and time from request_Date_Time\n",
    "\n",
    "uber['request_Date'] = uber['request_Date_Time'].dt.date\n",
    "uber['request_Time'] = uber['request_Date_Time'].dt.time\n",
    "uber.head(10)"
   ]
  },
  {
   "cell_type": "code",
   "execution_count": 20,
   "metadata": {},
   "outputs": [],
   "source": [
    "uber['request_year'] = uber['request_Date_Time'].dt.year\n"
   ]
  },
  {
   "cell_type": "code",
   "execution_count": 21,
   "metadata": {},
   "outputs": [
    {
     "data": {
      "text/html": [
       "<div>\n",
       "<style scoped>\n",
       "    .dataframe tbody tr th:only-of-type {\n",
       "        vertical-align: middle;\n",
       "    }\n",
       "\n",
       "    .dataframe tbody tr th {\n",
       "        vertical-align: top;\n",
       "    }\n",
       "\n",
       "    .dataframe thead th {\n",
       "        text-align: right;\n",
       "    }\n",
       "</style>\n",
       "<table border=\"1\" class=\"dataframe\">\n",
       "  <thead>\n",
       "    <tr style=\"text-align: right;\">\n",
       "      <th></th>\n",
       "      <th>Request_id</th>\n",
       "      <th>Pickup_point</th>\n",
       "      <th>Driver_id</th>\n",
       "      <th>Status</th>\n",
       "      <th>request_Date_Time</th>\n",
       "      <th>drop_Date_Time</th>\n",
       "      <th>request_Date</th>\n",
       "      <th>request_Time</th>\n",
       "      <th>request_DayOfWeek</th>\n",
       "      <th>request_year</th>\n",
       "    </tr>\n",
       "  </thead>\n",
       "  <tbody>\n",
       "    <tr>\n",
       "      <th>0</th>\n",
       "      <td>619</td>\n",
       "      <td>Airport</td>\n",
       "      <td>1.0</td>\n",
       "      <td>Trip Completed</td>\n",
       "      <td>2016-07-11 11:51:00</td>\n",
       "      <td>2016-07-11 13:00:00</td>\n",
       "      <td>2016-07-11</td>\n",
       "      <td>11:51:00</td>\n",
       "      <td>Monday</td>\n",
       "      <td>2016</td>\n",
       "    </tr>\n",
       "    <tr>\n",
       "      <th>1</th>\n",
       "      <td>867</td>\n",
       "      <td>Airport</td>\n",
       "      <td>1.0</td>\n",
       "      <td>Trip Completed</td>\n",
       "      <td>2016-07-11 17:57:00</td>\n",
       "      <td>2016-07-11 18:47:00</td>\n",
       "      <td>2016-07-11</td>\n",
       "      <td>17:57:00</td>\n",
       "      <td>Monday</td>\n",
       "      <td>2016</td>\n",
       "    </tr>\n",
       "    <tr>\n",
       "      <th>2</th>\n",
       "      <td>1807</td>\n",
       "      <td>City</td>\n",
       "      <td>1.0</td>\n",
       "      <td>Trip Completed</td>\n",
       "      <td>2016-07-12 09:17:00</td>\n",
       "      <td>2016-07-12 09:58:00</td>\n",
       "      <td>2016-07-12</td>\n",
       "      <td>09:17:00</td>\n",
       "      <td>Tuesday</td>\n",
       "      <td>2016</td>\n",
       "    </tr>\n",
       "    <tr>\n",
       "      <th>3</th>\n",
       "      <td>2532</td>\n",
       "      <td>Airport</td>\n",
       "      <td>1.0</td>\n",
       "      <td>Trip Completed</td>\n",
       "      <td>2016-07-12 21:08:00</td>\n",
       "      <td>2016-07-12 22:03:00</td>\n",
       "      <td>2016-07-12</td>\n",
       "      <td>21:08:00</td>\n",
       "      <td>Tuesday</td>\n",
       "      <td>2016</td>\n",
       "    </tr>\n",
       "    <tr>\n",
       "      <th>4</th>\n",
       "      <td>3112</td>\n",
       "      <td>City</td>\n",
       "      <td>1.0</td>\n",
       "      <td>Trip Completed</td>\n",
       "      <td>2016-07-13 08:33:16</td>\n",
       "      <td>2016-07-13 09:25:47</td>\n",
       "      <td>2016-07-13</td>\n",
       "      <td>08:33:16</td>\n",
       "      <td>Wednesday</td>\n",
       "      <td>2016</td>\n",
       "    </tr>\n",
       "  </tbody>\n",
       "</table>\n",
       "</div>"
      ],
      "text/plain": [
       "   Request_id Pickup_point  Driver_id          Status   request_Date_Time  \\\n",
       "0         619      Airport        1.0  Trip Completed 2016-07-11 11:51:00   \n",
       "1         867      Airport        1.0  Trip Completed 2016-07-11 17:57:00   \n",
       "2        1807         City        1.0  Trip Completed 2016-07-12 09:17:00   \n",
       "3        2532      Airport        1.0  Trip Completed 2016-07-12 21:08:00   \n",
       "4        3112         City        1.0  Trip Completed 2016-07-13 08:33:16   \n",
       "\n",
       "       drop_Date_Time request_Date request_Time request_DayOfWeek  \\\n",
       "0 2016-07-11 13:00:00   2016-07-11     11:51:00            Monday   \n",
       "1 2016-07-11 18:47:00   2016-07-11     17:57:00            Monday   \n",
       "2 2016-07-12 09:58:00   2016-07-12     09:17:00           Tuesday   \n",
       "3 2016-07-12 22:03:00   2016-07-12     21:08:00           Tuesday   \n",
       "4 2016-07-13 09:25:47   2016-07-13     08:33:16         Wednesday   \n",
       "\n",
       "   request_year  \n",
       "0          2016  \n",
       "1          2016  \n",
       "2          2016  \n",
       "3          2016  \n",
       "4          2016  "
      ]
     },
     "execution_count": 21,
     "metadata": {},
     "output_type": "execute_result"
    }
   ],
   "source": [
    "uber.head()"
   ]
  },
  {
   "cell_type": "code",
   "execution_count": 19,
   "metadata": {},
   "outputs": [
    {
     "data": {
      "text/html": [
       "<div>\n",
       "<style scoped>\n",
       "    .dataframe tbody tr th:only-of-type {\n",
       "        vertical-align: middle;\n",
       "    }\n",
       "\n",
       "    .dataframe tbody tr th {\n",
       "        vertical-align: top;\n",
       "    }\n",
       "\n",
       "    .dataframe thead th {\n",
       "        text-align: right;\n",
       "    }\n",
       "</style>\n",
       "<table border=\"1\" class=\"dataframe\">\n",
       "  <thead>\n",
       "    <tr style=\"text-align: right;\">\n",
       "      <th></th>\n",
       "      <th>Request_id</th>\n",
       "      <th>Pickup_point</th>\n",
       "      <th>Driver_id</th>\n",
       "      <th>Status</th>\n",
       "      <th>request_Date_Time</th>\n",
       "      <th>drop_Date_Time</th>\n",
       "      <th>request_Date</th>\n",
       "      <th>request_Time</th>\n",
       "      <th>request_DayOfWeek</th>\n",
       "    </tr>\n",
       "  </thead>\n",
       "  <tbody>\n",
       "    <tr>\n",
       "      <th>0</th>\n",
       "      <td>619</td>\n",
       "      <td>Airport</td>\n",
       "      <td>1.0</td>\n",
       "      <td>Trip Completed</td>\n",
       "      <td>2016-07-11 11:51:00</td>\n",
       "      <td>2016-07-11 13:00:00</td>\n",
       "      <td>2016-07-11</td>\n",
       "      <td>11:51:00</td>\n",
       "      <td>Monday</td>\n",
       "    </tr>\n",
       "    <tr>\n",
       "      <th>1</th>\n",
       "      <td>867</td>\n",
       "      <td>Airport</td>\n",
       "      <td>1.0</td>\n",
       "      <td>Trip Completed</td>\n",
       "      <td>2016-07-11 17:57:00</td>\n",
       "      <td>2016-07-11 18:47:00</td>\n",
       "      <td>2016-07-11</td>\n",
       "      <td>17:57:00</td>\n",
       "      <td>Monday</td>\n",
       "    </tr>\n",
       "    <tr>\n",
       "      <th>2</th>\n",
       "      <td>1807</td>\n",
       "      <td>City</td>\n",
       "      <td>1.0</td>\n",
       "      <td>Trip Completed</td>\n",
       "      <td>2016-07-12 09:17:00</td>\n",
       "      <td>2016-07-12 09:58:00</td>\n",
       "      <td>2016-07-12</td>\n",
       "      <td>09:17:00</td>\n",
       "      <td>Tuesday</td>\n",
       "    </tr>\n",
       "    <tr>\n",
       "      <th>3</th>\n",
       "      <td>2532</td>\n",
       "      <td>Airport</td>\n",
       "      <td>1.0</td>\n",
       "      <td>Trip Completed</td>\n",
       "      <td>2016-07-12 21:08:00</td>\n",
       "      <td>2016-07-12 22:03:00</td>\n",
       "      <td>2016-07-12</td>\n",
       "      <td>21:08:00</td>\n",
       "      <td>Tuesday</td>\n",
       "    </tr>\n",
       "    <tr>\n",
       "      <th>4</th>\n",
       "      <td>3112</td>\n",
       "      <td>City</td>\n",
       "      <td>1.0</td>\n",
       "      <td>Trip Completed</td>\n",
       "      <td>2016-07-13 08:33:16</td>\n",
       "      <td>2016-07-13 09:25:47</td>\n",
       "      <td>2016-07-13</td>\n",
       "      <td>08:33:16</td>\n",
       "      <td>Wednesday</td>\n",
       "    </tr>\n",
       "  </tbody>\n",
       "</table>\n",
       "</div>"
      ],
      "text/plain": [
       "   Request_id Pickup_point  Driver_id          Status   request_Date_Time  \\\n",
       "0         619      Airport        1.0  Trip Completed 2016-07-11 11:51:00   \n",
       "1         867      Airport        1.0  Trip Completed 2016-07-11 17:57:00   \n",
       "2        1807         City        1.0  Trip Completed 2016-07-12 09:17:00   \n",
       "3        2532      Airport        1.0  Trip Completed 2016-07-12 21:08:00   \n",
       "4        3112         City        1.0  Trip Completed 2016-07-13 08:33:16   \n",
       "\n",
       "       drop_Date_Time request_Date request_Time request_DayOfWeek  \n",
       "0 2016-07-11 13:00:00   2016-07-11     11:51:00            Monday  \n",
       "1 2016-07-11 18:47:00   2016-07-11     17:57:00            Monday  \n",
       "2 2016-07-12 09:58:00   2016-07-12     09:17:00           Tuesday  \n",
       "3 2016-07-12 22:03:00   2016-07-12     21:08:00           Tuesday  \n",
       "4 2016-07-13 09:25:47   2016-07-13     08:33:16         Wednesday  "
      ]
     },
     "execution_count": 19,
     "metadata": {},
     "output_type": "execute_result"
    }
   ],
   "source": [
    "#extracting day of week from request date time\n",
    "uber['request_DayOfWeek'] = uber['request_Date_Time'].dt.day_name()\n",
    "uber.head()"
   ]
  },
  {
   "cell_type": "code",
   "execution_count": 22,
   "metadata": {},
   "outputs": [
    {
     "data": {
      "text/html": [
       "<div>\n",
       "<style scoped>\n",
       "    .dataframe tbody tr th:only-of-type {\n",
       "        vertical-align: middle;\n",
       "    }\n",
       "\n",
       "    .dataframe tbody tr th {\n",
       "        vertical-align: top;\n",
       "    }\n",
       "\n",
       "    .dataframe thead th {\n",
       "        text-align: right;\n",
       "    }\n",
       "</style>\n",
       "<table border=\"1\" class=\"dataframe\">\n",
       "  <thead>\n",
       "    <tr style=\"text-align: right;\">\n",
       "      <th></th>\n",
       "      <th>Request_id</th>\n",
       "      <th>Pickup_point</th>\n",
       "      <th>Driver_id</th>\n",
       "      <th>Status</th>\n",
       "      <th>request_Date_Time</th>\n",
       "      <th>drop_Date_Time</th>\n",
       "      <th>request_Date</th>\n",
       "      <th>request_Time</th>\n",
       "      <th>request_DayOfWeek</th>\n",
       "      <th>request_year</th>\n",
       "      <th>request_hour</th>\n",
       "    </tr>\n",
       "  </thead>\n",
       "  <tbody>\n",
       "    <tr>\n",
       "      <th>0</th>\n",
       "      <td>619</td>\n",
       "      <td>Airport</td>\n",
       "      <td>1.0</td>\n",
       "      <td>Trip Completed</td>\n",
       "      <td>2016-07-11 11:51:00</td>\n",
       "      <td>2016-07-11 13:00:00</td>\n",
       "      <td>2016-07-11</td>\n",
       "      <td>11:51:00</td>\n",
       "      <td>Monday</td>\n",
       "      <td>2016</td>\n",
       "      <td>11</td>\n",
       "    </tr>\n",
       "    <tr>\n",
       "      <th>1</th>\n",
       "      <td>867</td>\n",
       "      <td>Airport</td>\n",
       "      <td>1.0</td>\n",
       "      <td>Trip Completed</td>\n",
       "      <td>2016-07-11 17:57:00</td>\n",
       "      <td>2016-07-11 18:47:00</td>\n",
       "      <td>2016-07-11</td>\n",
       "      <td>17:57:00</td>\n",
       "      <td>Monday</td>\n",
       "      <td>2016</td>\n",
       "      <td>17</td>\n",
       "    </tr>\n",
       "    <tr>\n",
       "      <th>2</th>\n",
       "      <td>1807</td>\n",
       "      <td>City</td>\n",
       "      <td>1.0</td>\n",
       "      <td>Trip Completed</td>\n",
       "      <td>2016-07-12 09:17:00</td>\n",
       "      <td>2016-07-12 09:58:00</td>\n",
       "      <td>2016-07-12</td>\n",
       "      <td>09:17:00</td>\n",
       "      <td>Tuesday</td>\n",
       "      <td>2016</td>\n",
       "      <td>9</td>\n",
       "    </tr>\n",
       "    <tr>\n",
       "      <th>3</th>\n",
       "      <td>2532</td>\n",
       "      <td>Airport</td>\n",
       "      <td>1.0</td>\n",
       "      <td>Trip Completed</td>\n",
       "      <td>2016-07-12 21:08:00</td>\n",
       "      <td>2016-07-12 22:03:00</td>\n",
       "      <td>2016-07-12</td>\n",
       "      <td>21:08:00</td>\n",
       "      <td>Tuesday</td>\n",
       "      <td>2016</td>\n",
       "      <td>21</td>\n",
       "    </tr>\n",
       "    <tr>\n",
       "      <th>4</th>\n",
       "      <td>3112</td>\n",
       "      <td>City</td>\n",
       "      <td>1.0</td>\n",
       "      <td>Trip Completed</td>\n",
       "      <td>2016-07-13 08:33:16</td>\n",
       "      <td>2016-07-13 09:25:47</td>\n",
       "      <td>2016-07-13</td>\n",
       "      <td>08:33:16</td>\n",
       "      <td>Wednesday</td>\n",
       "      <td>2016</td>\n",
       "      <td>8</td>\n",
       "    </tr>\n",
       "  </tbody>\n",
       "</table>\n",
       "</div>"
      ],
      "text/plain": [
       "   Request_id Pickup_point  Driver_id          Status   request_Date_Time  \\\n",
       "0         619      Airport        1.0  Trip Completed 2016-07-11 11:51:00   \n",
       "1         867      Airport        1.0  Trip Completed 2016-07-11 17:57:00   \n",
       "2        1807         City        1.0  Trip Completed 2016-07-12 09:17:00   \n",
       "3        2532      Airport        1.0  Trip Completed 2016-07-12 21:08:00   \n",
       "4        3112         City        1.0  Trip Completed 2016-07-13 08:33:16   \n",
       "\n",
       "       drop_Date_Time request_Date request_Time request_DayOfWeek  \\\n",
       "0 2016-07-11 13:00:00   2016-07-11     11:51:00            Monday   \n",
       "1 2016-07-11 18:47:00   2016-07-11     17:57:00            Monday   \n",
       "2 2016-07-12 09:58:00   2016-07-12     09:17:00           Tuesday   \n",
       "3 2016-07-12 22:03:00   2016-07-12     21:08:00           Tuesday   \n",
       "4 2016-07-13 09:25:47   2016-07-13     08:33:16         Wednesday   \n",
       "\n",
       "   request_year  request_hour  \n",
       "0          2016            11  \n",
       "1          2016            17  \n",
       "2          2016             9  \n",
       "3          2016            21  \n",
       "4          2016             8  "
      ]
     },
     "execution_count": 22,
     "metadata": {},
     "output_type": "execute_result"
    }
   ],
   "source": [
    "#extracting hour,min and seconds from Request Date_Time\n",
    "\n",
    "uber['request_hour'] = uber['request_Date_Time'].dt.hour\n",
    "uber.head()"
   ]
  },
  {
   "cell_type": "code",
   "execution_count": 23,
   "metadata": {},
   "outputs": [
    {
     "data": {
      "text/html": [
       "<div>\n",
       "<style scoped>\n",
       "    .dataframe tbody tr th:only-of-type {\n",
       "        vertical-align: middle;\n",
       "    }\n",
       "\n",
       "    .dataframe tbody tr th {\n",
       "        vertical-align: top;\n",
       "    }\n",
       "\n",
       "    .dataframe thead th {\n",
       "        text-align: right;\n",
       "    }\n",
       "</style>\n",
       "<table border=\"1\" class=\"dataframe\">\n",
       "  <thead>\n",
       "    <tr style=\"text-align: right;\">\n",
       "      <th></th>\n",
       "      <th>Request_id</th>\n",
       "      <th>Pickup_point</th>\n",
       "      <th>Driver_id</th>\n",
       "      <th>Status</th>\n",
       "      <th>request_Date_Time</th>\n",
       "      <th>drop_Date_Time</th>\n",
       "      <th>request_Date</th>\n",
       "      <th>request_Time</th>\n",
       "      <th>request_DayOfWeek</th>\n",
       "      <th>request_year</th>\n",
       "      <th>request_hour</th>\n",
       "      <th>request_timeslot</th>\n",
       "    </tr>\n",
       "  </thead>\n",
       "  <tbody>\n",
       "    <tr>\n",
       "      <th>0</th>\n",
       "      <td>619</td>\n",
       "      <td>Airport</td>\n",
       "      <td>1.0</td>\n",
       "      <td>Trip Completed</td>\n",
       "      <td>2016-07-11 11:51:00</td>\n",
       "      <td>2016-07-11 13:00:00</td>\n",
       "      <td>2016-07-11</td>\n",
       "      <td>11:51:00</td>\n",
       "      <td>Monday</td>\n",
       "      <td>2016</td>\n",
       "      <td>11</td>\n",
       "      <td>Morning</td>\n",
       "    </tr>\n",
       "    <tr>\n",
       "      <th>1</th>\n",
       "      <td>867</td>\n",
       "      <td>Airport</td>\n",
       "      <td>1.0</td>\n",
       "      <td>Trip Completed</td>\n",
       "      <td>2016-07-11 17:57:00</td>\n",
       "      <td>2016-07-11 18:47:00</td>\n",
       "      <td>2016-07-11</td>\n",
       "      <td>17:57:00</td>\n",
       "      <td>Monday</td>\n",
       "      <td>2016</td>\n",
       "      <td>17</td>\n",
       "      <td>Afternoon</td>\n",
       "    </tr>\n",
       "    <tr>\n",
       "      <th>2</th>\n",
       "      <td>1807</td>\n",
       "      <td>City</td>\n",
       "      <td>1.0</td>\n",
       "      <td>Trip Completed</td>\n",
       "      <td>2016-07-12 09:17:00</td>\n",
       "      <td>2016-07-12 09:58:00</td>\n",
       "      <td>2016-07-12</td>\n",
       "      <td>09:17:00</td>\n",
       "      <td>Tuesday</td>\n",
       "      <td>2016</td>\n",
       "      <td>9</td>\n",
       "      <td>Morning</td>\n",
       "    </tr>\n",
       "    <tr>\n",
       "      <th>3</th>\n",
       "      <td>2532</td>\n",
       "      <td>Airport</td>\n",
       "      <td>1.0</td>\n",
       "      <td>Trip Completed</td>\n",
       "      <td>2016-07-12 21:08:00</td>\n",
       "      <td>2016-07-12 22:03:00</td>\n",
       "      <td>2016-07-12</td>\n",
       "      <td>21:08:00</td>\n",
       "      <td>Tuesday</td>\n",
       "      <td>2016</td>\n",
       "      <td>21</td>\n",
       "      <td>Night</td>\n",
       "    </tr>\n",
       "    <tr>\n",
       "      <th>4</th>\n",
       "      <td>3112</td>\n",
       "      <td>City</td>\n",
       "      <td>1.0</td>\n",
       "      <td>Trip Completed</td>\n",
       "      <td>2016-07-13 08:33:16</td>\n",
       "      <td>2016-07-13 09:25:47</td>\n",
       "      <td>2016-07-13</td>\n",
       "      <td>08:33:16</td>\n",
       "      <td>Wednesday</td>\n",
       "      <td>2016</td>\n",
       "      <td>8</td>\n",
       "      <td>Morning</td>\n",
       "    </tr>\n",
       "  </tbody>\n",
       "</table>\n",
       "</div>"
      ],
      "text/plain": [
       "   Request_id Pickup_point  Driver_id          Status   request_Date_Time  \\\n",
       "0         619      Airport        1.0  Trip Completed 2016-07-11 11:51:00   \n",
       "1         867      Airport        1.0  Trip Completed 2016-07-11 17:57:00   \n",
       "2        1807         City        1.0  Trip Completed 2016-07-12 09:17:00   \n",
       "3        2532      Airport        1.0  Trip Completed 2016-07-12 21:08:00   \n",
       "4        3112         City        1.0  Trip Completed 2016-07-13 08:33:16   \n",
       "\n",
       "       drop_Date_Time request_Date request_Time request_DayOfWeek  \\\n",
       "0 2016-07-11 13:00:00   2016-07-11     11:51:00            Monday   \n",
       "1 2016-07-11 18:47:00   2016-07-11     17:57:00            Monday   \n",
       "2 2016-07-12 09:58:00   2016-07-12     09:17:00           Tuesday   \n",
       "3 2016-07-12 22:03:00   2016-07-12     21:08:00           Tuesday   \n",
       "4 2016-07-13 09:25:47   2016-07-13     08:33:16         Wednesday   \n",
       "\n",
       "   request_year  request_hour request_timeslot  \n",
       "0          2016            11          Morning  \n",
       "1          2016            17        Afternoon  \n",
       "2          2016             9          Morning  \n",
       "3          2016            21            Night  \n",
       "4          2016             8          Morning  "
      ]
     },
     "execution_count": 23,
     "metadata": {},
     "output_type": "execute_result"
    }
   ],
   "source": [
    "# creating slot of request hour\n",
    "uber.loc[uber['request_hour'].between(0,3, inclusive=True),'request_timeslot'] = 'Late night'\n",
    "uber.loc[uber['request_hour'].between(4,6, inclusive=True),'request_timeslot'] = 'Early morning'\n",
    "uber.loc[uber['request_hour'].between(7,12, inclusive=True),'request_timeslot'] = 'Morning'\n",
    "uber.loc[uber['request_hour'].between(13,17, inclusive=True),'request_timeslot'] = 'Afternoon'\n",
    "uber.loc[uber['request_hour'].between(18,20, inclusive=True),'request_timeslot'] = 'Evening'\n",
    "uber.loc[uber['request_hour'].between(21,24, inclusive=True),'request_timeslot'] = 'Night'\n",
    "uber.head()"
   ]
  },
  {
   "cell_type": "code",
   "execution_count": null,
   "metadata": {},
   "outputs": [],
   "source": [
    "#checking if any new columns created has Na's\n",
    "uber.isna().sum()"
   ]
  },
  {
   "cell_type": "markdown",
   "metadata": {},
   "source": [
    "#### Data preparation:\n",
    "#### ii)Handling drop_Date_Time"
   ]
  },
  {
   "cell_type": "code",
   "execution_count": 24,
   "metadata": {},
   "outputs": [
    {
     "data": {
      "text/html": [
       "<div>\n",
       "<style scoped>\n",
       "    .dataframe tbody tr th:only-of-type {\n",
       "        vertical-align: middle;\n",
       "    }\n",
       "\n",
       "    .dataframe tbody tr th {\n",
       "        vertical-align: top;\n",
       "    }\n",
       "\n",
       "    .dataframe thead th {\n",
       "        text-align: right;\n",
       "    }\n",
       "</style>\n",
       "<table border=\"1\" class=\"dataframe\">\n",
       "  <thead>\n",
       "    <tr style=\"text-align: right;\">\n",
       "      <th></th>\n",
       "      <th>Request_id</th>\n",
       "      <th>Pickup_point</th>\n",
       "      <th>Driver_id</th>\n",
       "      <th>Status</th>\n",
       "      <th>request_Date_Time</th>\n",
       "      <th>drop_Date_Time</th>\n",
       "      <th>request_Date</th>\n",
       "      <th>request_Time</th>\n",
       "      <th>request_DayOfWeek</th>\n",
       "      <th>request_year</th>\n",
       "      <th>request_hour</th>\n",
       "      <th>request_timeslot</th>\n",
       "      <th>drop_Date</th>\n",
       "      <th>drop_Time</th>\n",
       "    </tr>\n",
       "  </thead>\n",
       "  <tbody>\n",
       "    <tr>\n",
       "      <th>0</th>\n",
       "      <td>619</td>\n",
       "      <td>Airport</td>\n",
       "      <td>1.0</td>\n",
       "      <td>Trip Completed</td>\n",
       "      <td>2016-07-11 11:51:00</td>\n",
       "      <td>2016-07-11 13:00:00</td>\n",
       "      <td>2016-07-11</td>\n",
       "      <td>11:51:00</td>\n",
       "      <td>Monday</td>\n",
       "      <td>2016</td>\n",
       "      <td>11</td>\n",
       "      <td>Morning</td>\n",
       "      <td>2016-07-11</td>\n",
       "      <td>13:00:00</td>\n",
       "    </tr>\n",
       "    <tr>\n",
       "      <th>1</th>\n",
       "      <td>867</td>\n",
       "      <td>Airport</td>\n",
       "      <td>1.0</td>\n",
       "      <td>Trip Completed</td>\n",
       "      <td>2016-07-11 17:57:00</td>\n",
       "      <td>2016-07-11 18:47:00</td>\n",
       "      <td>2016-07-11</td>\n",
       "      <td>17:57:00</td>\n",
       "      <td>Monday</td>\n",
       "      <td>2016</td>\n",
       "      <td>17</td>\n",
       "      <td>Afternoon</td>\n",
       "      <td>2016-07-11</td>\n",
       "      <td>18:47:00</td>\n",
       "    </tr>\n",
       "    <tr>\n",
       "      <th>2</th>\n",
       "      <td>1807</td>\n",
       "      <td>City</td>\n",
       "      <td>1.0</td>\n",
       "      <td>Trip Completed</td>\n",
       "      <td>2016-07-12 09:17:00</td>\n",
       "      <td>2016-07-12 09:58:00</td>\n",
       "      <td>2016-07-12</td>\n",
       "      <td>09:17:00</td>\n",
       "      <td>Tuesday</td>\n",
       "      <td>2016</td>\n",
       "      <td>9</td>\n",
       "      <td>Morning</td>\n",
       "      <td>2016-07-12</td>\n",
       "      <td>09:58:00</td>\n",
       "    </tr>\n",
       "    <tr>\n",
       "      <th>3</th>\n",
       "      <td>2532</td>\n",
       "      <td>Airport</td>\n",
       "      <td>1.0</td>\n",
       "      <td>Trip Completed</td>\n",
       "      <td>2016-07-12 21:08:00</td>\n",
       "      <td>2016-07-12 22:03:00</td>\n",
       "      <td>2016-07-12</td>\n",
       "      <td>21:08:00</td>\n",
       "      <td>Tuesday</td>\n",
       "      <td>2016</td>\n",
       "      <td>21</td>\n",
       "      <td>Night</td>\n",
       "      <td>2016-07-12</td>\n",
       "      <td>22:03:00</td>\n",
       "    </tr>\n",
       "    <tr>\n",
       "      <th>4</th>\n",
       "      <td>3112</td>\n",
       "      <td>City</td>\n",
       "      <td>1.0</td>\n",
       "      <td>Trip Completed</td>\n",
       "      <td>2016-07-13 08:33:16</td>\n",
       "      <td>2016-07-13 09:25:47</td>\n",
       "      <td>2016-07-13</td>\n",
       "      <td>08:33:16</td>\n",
       "      <td>Wednesday</td>\n",
       "      <td>2016</td>\n",
       "      <td>8</td>\n",
       "      <td>Morning</td>\n",
       "      <td>2016-07-13</td>\n",
       "      <td>09:25:47</td>\n",
       "    </tr>\n",
       "    <tr>\n",
       "      <th>5</th>\n",
       "      <td>3879</td>\n",
       "      <td>Airport</td>\n",
       "      <td>1.0</td>\n",
       "      <td>Trip Completed</td>\n",
       "      <td>2016-07-13 21:57:28</td>\n",
       "      <td>2016-07-13 22:28:59</td>\n",
       "      <td>2016-07-13</td>\n",
       "      <td>21:57:28</td>\n",
       "      <td>Wednesday</td>\n",
       "      <td>2016</td>\n",
       "      <td>21</td>\n",
       "      <td>Night</td>\n",
       "      <td>2016-07-13</td>\n",
       "      <td>22:28:59</td>\n",
       "    </tr>\n",
       "    <tr>\n",
       "      <th>6</th>\n",
       "      <td>4270</td>\n",
       "      <td>Airport</td>\n",
       "      <td>1.0</td>\n",
       "      <td>Trip Completed</td>\n",
       "      <td>2016-07-14 06:15:32</td>\n",
       "      <td>2016-07-14 07:13:15</td>\n",
       "      <td>2016-07-14</td>\n",
       "      <td>06:15:32</td>\n",
       "      <td>Thursday</td>\n",
       "      <td>2016</td>\n",
       "      <td>6</td>\n",
       "      <td>Early morning</td>\n",
       "      <td>2016-07-14</td>\n",
       "      <td>07:13:15</td>\n",
       "    </tr>\n",
       "    <tr>\n",
       "      <th>7</th>\n",
       "      <td>5510</td>\n",
       "      <td>Airport</td>\n",
       "      <td>1.0</td>\n",
       "      <td>Trip Completed</td>\n",
       "      <td>2016-07-15 05:11:52</td>\n",
       "      <td>2016-07-15 06:07:52</td>\n",
       "      <td>2016-07-15</td>\n",
       "      <td>05:11:52</td>\n",
       "      <td>Friday</td>\n",
       "      <td>2016</td>\n",
       "      <td>5</td>\n",
       "      <td>Early morning</td>\n",
       "      <td>2016-07-15</td>\n",
       "      <td>06:07:52</td>\n",
       "    </tr>\n",
       "    <tr>\n",
       "      <th>8</th>\n",
       "      <td>6248</td>\n",
       "      <td>City</td>\n",
       "      <td>1.0</td>\n",
       "      <td>Trip Completed</td>\n",
       "      <td>2016-07-15 17:57:27</td>\n",
       "      <td>2016-07-15 18:50:51</td>\n",
       "      <td>2016-07-15</td>\n",
       "      <td>17:57:27</td>\n",
       "      <td>Friday</td>\n",
       "      <td>2016</td>\n",
       "      <td>17</td>\n",
       "      <td>Afternoon</td>\n",
       "      <td>2016-07-15</td>\n",
       "      <td>18:50:51</td>\n",
       "    </tr>\n",
       "    <tr>\n",
       "      <th>9</th>\n",
       "      <td>267</td>\n",
       "      <td>City</td>\n",
       "      <td>2.0</td>\n",
       "      <td>Trip Completed</td>\n",
       "      <td>2016-07-11 06:46:00</td>\n",
       "      <td>2016-07-11 07:25:00</td>\n",
       "      <td>2016-07-11</td>\n",
       "      <td>06:46:00</td>\n",
       "      <td>Monday</td>\n",
       "      <td>2016</td>\n",
       "      <td>6</td>\n",
       "      <td>Early morning</td>\n",
       "      <td>2016-07-11</td>\n",
       "      <td>07:25:00</td>\n",
       "    </tr>\n",
       "  </tbody>\n",
       "</table>\n",
       "</div>"
      ],
      "text/plain": [
       "   Request_id Pickup_point  Driver_id          Status   request_Date_Time  \\\n",
       "0         619      Airport        1.0  Trip Completed 2016-07-11 11:51:00   \n",
       "1         867      Airport        1.0  Trip Completed 2016-07-11 17:57:00   \n",
       "2        1807         City        1.0  Trip Completed 2016-07-12 09:17:00   \n",
       "3        2532      Airport        1.0  Trip Completed 2016-07-12 21:08:00   \n",
       "4        3112         City        1.0  Trip Completed 2016-07-13 08:33:16   \n",
       "5        3879      Airport        1.0  Trip Completed 2016-07-13 21:57:28   \n",
       "6        4270      Airport        1.0  Trip Completed 2016-07-14 06:15:32   \n",
       "7        5510      Airport        1.0  Trip Completed 2016-07-15 05:11:52   \n",
       "8        6248         City        1.0  Trip Completed 2016-07-15 17:57:27   \n",
       "9         267         City        2.0  Trip Completed 2016-07-11 06:46:00   \n",
       "\n",
       "       drop_Date_Time request_Date request_Time request_DayOfWeek  \\\n",
       "0 2016-07-11 13:00:00   2016-07-11     11:51:00            Monday   \n",
       "1 2016-07-11 18:47:00   2016-07-11     17:57:00            Monday   \n",
       "2 2016-07-12 09:58:00   2016-07-12     09:17:00           Tuesday   \n",
       "3 2016-07-12 22:03:00   2016-07-12     21:08:00           Tuesday   \n",
       "4 2016-07-13 09:25:47   2016-07-13     08:33:16         Wednesday   \n",
       "5 2016-07-13 22:28:59   2016-07-13     21:57:28         Wednesday   \n",
       "6 2016-07-14 07:13:15   2016-07-14     06:15:32          Thursday   \n",
       "7 2016-07-15 06:07:52   2016-07-15     05:11:52            Friday   \n",
       "8 2016-07-15 18:50:51   2016-07-15     17:57:27            Friday   \n",
       "9 2016-07-11 07:25:00   2016-07-11     06:46:00            Monday   \n",
       "\n",
       "   request_year  request_hour request_timeslot   drop_Date drop_Time  \n",
       "0          2016            11          Morning  2016-07-11  13:00:00  \n",
       "1          2016            17        Afternoon  2016-07-11  18:47:00  \n",
       "2          2016             9          Morning  2016-07-12  09:58:00  \n",
       "3          2016            21            Night  2016-07-12  22:03:00  \n",
       "4          2016             8          Morning  2016-07-13  09:25:47  \n",
       "5          2016            21            Night  2016-07-13  22:28:59  \n",
       "6          2016             6    Early morning  2016-07-14  07:13:15  \n",
       "7          2016             5    Early morning  2016-07-15  06:07:52  \n",
       "8          2016            17        Afternoon  2016-07-15  18:50:51  \n",
       "9          2016             6    Early morning  2016-07-11  07:25:00  "
      ]
     },
     "execution_count": 24,
     "metadata": {},
     "output_type": "execute_result"
    }
   ],
   "source": [
    "#extracting date and time from drop_Date_Time\n",
    "\n",
    "uber['drop_Date'] = uber['drop_Date_Time'].dt.date\n",
    "uber['drop_Time'] = uber['drop_Date_Time'].dt.time\n",
    "\n",
    "uber.head(10)"
   ]
  },
  {
   "cell_type": "markdown",
   "metadata": {},
   "source": [
    "### Data analysis"
   ]
  },
  {
   "cell_type": "code",
   "execution_count": 27,
   "metadata": {},
   "outputs": [
    {
     "data": {
      "image/png": "[encoded data removed]",
      "text/plain": [
       "<Figure size 432x288 with 1 Axes>"
      ]
     },
     "metadata": {},
     "output_type": "display_data"
    }
   ],
   "source": [
    "#looking for insight in pickup point\n",
    "sns.set(style=\"darkgrid\")\n",
    "ax = sns.countplot(x=\"Pickup_point\", data=uber)\n",
    "for p in ax.patches:\n",
    "    value = p.get_height()\n",
    "    X = p.get_x()+0.4\n",
    "    Y = p.get_height()+50\n",
    "    ax.text(X, Y, value, ha=\"center\")\n",
    "plt.show()\n",
    "\n",
    "#There isn't much difference in airport and city requests."
   ]
  },
  {
   "cell_type": "code",
   "execution_count": 28,
   "metadata": {},
   "outputs": [
    {
     "data": {
      "image/png": "[encoded data removed]",
      "text/plain": [
       "<Figure size 720x576 with 1 Axes>"
      ]
     },
     "metadata": {},
     "output_type": "display_data"
    }
   ],
   "source": [
    "#looking for insight in status\n",
    "plt.figure(figsize=(10, 8))\n",
    "ax =sns.countplot(x=\"Status\", data=uber)\n",
    "total = len(uber)\n",
    "for p in ax.patches:\n",
    "    value = round((p.get_height()/total)*100,2)\n",
    "    X = p.get_x()+0.4\n",
    "    Y = p.get_height()+50\n",
    "    ax.text(X, Y, '{:} %'.format(value), ha=\"center\")\n",
    "plt.show()\n",
    "\n",
    "\n",
    "#Only 41.97% requests from city and airport request gets completed "
   ]
  },
  {
   "cell_type": "code",
   "execution_count": 31,
   "metadata": {},
   "outputs": [
    {
     "data": {
      "text/plain": [
       "array(['Monday', 'Tuesday', 'Wednesday', 'Thursday', 'Friday'],\n",
       "      dtype=object)"
      ]
     },
     "execution_count": 31,
     "metadata": {},
     "output_type": "execute_result"
    }
   ],
   "source": [
    "uber['request_DayOfWeek'].unique()"
   ]
  },
  {
   "cell_type": "code",
   "execution_count": 34,
   "metadata": {},
   "outputs": [
    {
     "data": {
      "image/png": "[encoded data removed]",
      "text/plain": [
       "<Figure size 864x576 with 1 Axes>"
      ]
     },
     "metadata": {},
     "output_type": "display_data"
    }
   ],
   "source": [
    "#looking to find the request count vs daysof week\n",
    "plt.figure(num=None, figsize=(12, 8), facecolor='w', edgecolor='k')\n",
    "ax =sns.countplot(x='request_DayOfWeek', data=uber)\n",
    "total = len(uber)\n",
    "for p in ax.patches:\n",
    "    value = round((p.get_height()/total)*100,2)\n",
    "    X = p.get_x()+0.4\n",
    "    Y = p.get_height()+20\n",
    "    ax.text(X, Y, value, ha=\"center\")\n",
    "plt.show()\n",
    "\n",
    "#There isn't much difference in requests vs days of the week"
   ]
  },
  {
   "cell_type": "code",
   "execution_count": 35,
   "metadata": {},
   "outputs": [
    {
     "data": {
      "image/png": "[encoded data removed]",
      "text/plain": [
       "<Figure size 864x576 with 1 Axes>"
      ]
     },
     "metadata": {},
     "output_type": "display_data"
    }
   ],
   "source": [
    "#looking for insight in request hour\n",
    "plt.figure(num=None, figsize=(12, 8), facecolor='w', edgecolor='k')\n",
    "sns.countplot(x='request_hour', data=uber)\n",
    "plt.show()\n",
    "\n",
    "#The below plot clearly depicts that there are high request rates from 5am to 9am and 5pm to 10 pm"
   ]
  },
  {
   "cell_type": "code",
   "execution_count": 36,
   "metadata": {},
   "outputs": [
    {
     "data": {
      "image/png": "[encoded data removed]",
      "text/plain": [
       "<Figure size 864x576 with 1 Axes>"
      ]
     },
     "metadata": {},
     "output_type": "display_data"
    }
   ],
   "source": [
    "#looking for insight in request timeslot\n",
    "plt.figure(num=None, figsize=(12, 8), facecolor='w', edgecolor='b')\n",
    "ax =sns.countplot(x='request_timeslot', data=uber)\n",
    "total = len(uber)\n",
    "for p in ax.patches:\n",
    "    value = round((p.get_height()/total)*100,2)\n",
    "    X = p.get_x()+0.4\n",
    "    Y = p.get_height()+25\n",
    "    ax.text(X, Y, '{:} %'.format(value), ha=\"center\")\n",
    "plt.show()\n",
    "\n",
    "\n",
    "#From the below plot it is clear that most of the requests are raised in morning(27.55%) and evening(21.87%) slots\n",
    "#which is approx. same as the above plots- high request rates are from 5am to 9am and 5pm to 10 pm"
   ]
  },
  {
   "cell_type": "markdown",
   "metadata": {},
   "source": [
    "#### Observations so far:\n",
    " 1. Only 41.97% requests from city and airport request gets completed \n",
    " 2. High request rates are from morning and evening slot"
   ]
  },
  {
   "cell_type": "code",
   "execution_count": 37,
   "metadata": {},
   "outputs": [
    {
     "data": {
      "image/png": "[encoded data removed]",
      "text/plain": [
       "<Figure size 864x576 with 1 Axes>"
      ]
     },
     "metadata": {},
     "output_type": "display_data"
    }
   ],
   "source": [
    "# Segmenting the data:\n",
    "\n",
    "#segmenting pickup point over status\n",
    "plt.figure(num=None, figsize=(12, 8), facecolor='w', edgecolor='k')\n",
    "ax =sns.countplot(x='Pickup_point', hue=\"Status\", data=uber)\n",
    "total = len(uber)\n",
    "for p in ax.patches:\n",
    "    value = round((p.get_height()/total)*100,2)\n",
    "    X = p.get_x()+0.2\n",
    "    Y = p.get_height()+20\n",
    "    ax.text(X, Y, '{:} %'.format(value), ha=\"right\")\n",
    "plt.show()\n",
    "\n",
    "#The above plot shows that for most of the  Airport pickup requests there are no cars available \n",
    "#and most requests that get cancelled are from city pickup requests"
   ]
  },
  {
   "cell_type": "code",
   "execution_count": 38,
   "metadata": {},
   "outputs": [
    {
     "data": {
      "image/png": "[encoded data removed]",
      "text/plain": [
       "<Figure size 864x576 with 1 Axes>"
      ]
     },
     "metadata": {},
     "output_type": "display_data"
    }
   ],
   "source": [
    "#segmenting pickup point over time slot\n",
    "plt.figure(num=None, figsize=(12, 8), facecolor='w', edgecolor='k')\n",
    "sns.countplot(x='Pickup_point', hue=\"request_timeslot\", data=uber)\n",
    "plt.show()\n",
    "\n",
    "\n",
    "# Airport - has the hightest request in the evening\n",
    "# City- has the hightest request in the morning\n",
    "# From this graph our previous observation of high request rates of morning and evening slot gets clarified."
   ]
  },
  {
   "cell_type": "markdown",
   "metadata": {},
   "source": [
    "### Supply and demand gap calculation"
   ]
  },
  {
   "cell_type": "code",
   "execution_count": 39,
   "metadata": {},
   "outputs": [],
   "source": [
    "#creating demand column\n",
    "uber.loc[(uber.Status == 'Trip Completed') | (uber.Status == 'Cancelled')| (uber.Status == 'No Cars Available'), 'demand'] = 'Demand' "
   ]
  },
  {
   "cell_type": "code",
   "execution_count": 40,
   "metadata": {},
   "outputs": [],
   "source": [
    "#creating supply column\n",
    "uber.loc[(uber.Status == 'Trip Completed'), 'supply'] = 'Supply'"
   ]
  },
  {
   "cell_type": "code",
   "execution_count": 41,
   "metadata": {},
   "outputs": [],
   "source": [
    "#creating gap column\n",
    "uber.loc[(uber.Status == 'Cancelled')| (uber.Status == 'No Cars Available'), 'gap'] = 'Gap' "
   ]
  },
  {
   "cell_type": "code",
   "execution_count": 42,
   "metadata": {},
   "outputs": [
    {
     "data": {
      "text/html": [
       "<div>\n",
       "<style scoped>\n",
       "    .dataframe tbody tr th:only-of-type {\n",
       "        vertical-align: middle;\n",
       "    }\n",
       "\n",
       "    .dataframe tbody tr th {\n",
       "        vertical-align: top;\n",
       "    }\n",
       "\n",
       "    .dataframe thead th {\n",
       "        text-align: right;\n",
       "    }\n",
       "</style>\n",
       "<table border=\"1\" class=\"dataframe\">\n",
       "  <thead>\n",
       "    <tr style=\"text-align: right;\">\n",
       "      <th></th>\n",
       "      <th>Request_id</th>\n",
       "      <th>Pickup_point</th>\n",
       "      <th>Driver_id</th>\n",
       "      <th>Status</th>\n",
       "      <th>request_Date_Time</th>\n",
       "      <th>drop_Date_Time</th>\n",
       "      <th>request_Date</th>\n",
       "      <th>request_Time</th>\n",
       "      <th>request_DayOfWeek</th>\n",
       "      <th>request_year</th>\n",
       "      <th>request_hour</th>\n",
       "      <th>request_timeslot</th>\n",
       "      <th>drop_Date</th>\n",
       "      <th>drop_Time</th>\n",
       "      <th>demand</th>\n",
       "      <th>supply</th>\n",
       "      <th>gap</th>\n",
       "    </tr>\n",
       "  </thead>\n",
       "  <tbody>\n",
       "    <tr>\n",
       "      <th>0</th>\n",
       "      <td>619</td>\n",
       "      <td>Airport</td>\n",
       "      <td>1.0</td>\n",
       "      <td>Trip Completed</td>\n",
       "      <td>2016-07-11 11:51:00</td>\n",
       "      <td>2016-07-11 13:00:00</td>\n",
       "      <td>2016-07-11</td>\n",
       "      <td>11:51:00</td>\n",
       "      <td>Monday</td>\n",
       "      <td>2016</td>\n",
       "      <td>11</td>\n",
       "      <td>Morning</td>\n",
       "      <td>2016-07-11</td>\n",
       "      <td>13:00:00</td>\n",
       "      <td>Demand</td>\n",
       "      <td>Supply</td>\n",
       "      <td>NaN</td>\n",
       "    </tr>\n",
       "    <tr>\n",
       "      <th>1</th>\n",
       "      <td>867</td>\n",
       "      <td>Airport</td>\n",
       "      <td>1.0</td>\n",
       "      <td>Trip Completed</td>\n",
       "      <td>2016-07-11 17:57:00</td>\n",
       "      <td>2016-07-11 18:47:00</td>\n",
       "      <td>2016-07-11</td>\n",
       "      <td>17:57:00</td>\n",
       "      <td>Monday</td>\n",
       "      <td>2016</td>\n",
       "      <td>17</td>\n",
       "      <td>Afternoon</td>\n",
       "      <td>2016-07-11</td>\n",
       "      <td>18:47:00</td>\n",
       "      <td>Demand</td>\n",
       "      <td>Supply</td>\n",
       "      <td>NaN</td>\n",
       "    </tr>\n",
       "    <tr>\n",
       "      <th>2</th>\n",
       "      <td>1807</td>\n",
       "      <td>City</td>\n",
       "      <td>1.0</td>\n",
       "      <td>Trip Completed</td>\n",
       "      <td>2016-07-12 09:17:00</td>\n",
       "      <td>2016-07-12 09:58:00</td>\n",
       "      <td>2016-07-12</td>\n",
       "      <td>09:17:00</td>\n",
       "      <td>Tuesday</td>\n",
       "      <td>2016</td>\n",
       "      <td>9</td>\n",
       "      <td>Morning</td>\n",
       "      <td>2016-07-12</td>\n",
       "      <td>09:58:00</td>\n",
       "      <td>Demand</td>\n",
       "      <td>Supply</td>\n",
       "      <td>NaN</td>\n",
       "    </tr>\n",
       "    <tr>\n",
       "      <th>3</th>\n",
       "      <td>2532</td>\n",
       "      <td>Airport</td>\n",
       "      <td>1.0</td>\n",
       "      <td>Trip Completed</td>\n",
       "      <td>2016-07-12 21:08:00</td>\n",
       "      <td>2016-07-12 22:03:00</td>\n",
       "      <td>2016-07-12</td>\n",
       "      <td>21:08:00</td>\n",
       "      <td>Tuesday</td>\n",
       "      <td>2016</td>\n",
       "      <td>21</td>\n",
       "      <td>Night</td>\n",
       "      <td>2016-07-12</td>\n",
       "      <td>22:03:00</td>\n",
       "      <td>Demand</td>\n",
       "      <td>Supply</td>\n",
       "      <td>NaN</td>\n",
       "    </tr>\n",
       "    <tr>\n",
       "      <th>4</th>\n",
       "      <td>3112</td>\n",
       "      <td>City</td>\n",
       "      <td>1.0</td>\n",
       "      <td>Trip Completed</td>\n",
       "      <td>2016-07-13 08:33:16</td>\n",
       "      <td>2016-07-13 09:25:47</td>\n",
       "      <td>2016-07-13</td>\n",
       "      <td>08:33:16</td>\n",
       "      <td>Wednesday</td>\n",
       "      <td>2016</td>\n",
       "      <td>8</td>\n",
       "      <td>Morning</td>\n",
       "      <td>2016-07-13</td>\n",
       "      <td>09:25:47</td>\n",
       "      <td>Demand</td>\n",
       "      <td>Supply</td>\n",
       "      <td>NaN</td>\n",
       "    </tr>\n",
       "  </tbody>\n",
       "</table>\n",
       "</div>"
      ],
      "text/plain": [
       "   Request_id Pickup_point  Driver_id          Status   request_Date_Time  \\\n",
       "0         619      Airport        1.0  Trip Completed 2016-07-11 11:51:00   \n",
       "1         867      Airport        1.0  Trip Completed 2016-07-11 17:57:00   \n",
       "2        1807         City        1.0  Trip Completed 2016-07-12 09:17:00   \n",
       "3        2532      Airport        1.0  Trip Completed 2016-07-12 21:08:00   \n",
       "4        3112         City        1.0  Trip Completed 2016-07-13 08:33:16   \n",
       "\n",
       "       drop_Date_Time request_Date request_Time request_DayOfWeek  \\\n",
       "0 2016-07-11 13:00:00   2016-07-11     11:51:00            Monday   \n",
       "1 2016-07-11 18:47:00   2016-07-11     17:57:00            Monday   \n",
       "2 2016-07-12 09:58:00   2016-07-12     09:17:00           Tuesday   \n",
       "3 2016-07-12 22:03:00   2016-07-12     21:08:00           Tuesday   \n",
       "4 2016-07-13 09:25:47   2016-07-13     08:33:16         Wednesday   \n",
       "\n",
       "   request_year  request_hour request_timeslot   drop_Date drop_Time  demand  \\\n",
       "0          2016            11          Morning  2016-07-11  13:00:00  Demand   \n",
       "1          2016            17        Afternoon  2016-07-11  18:47:00  Demand   \n",
       "2          2016             9          Morning  2016-07-12  09:58:00  Demand   \n",
       "3          2016            21            Night  2016-07-12  22:03:00  Demand   \n",
       "4          2016             8          Morning  2016-07-13  09:25:47  Demand   \n",
       "\n",
       "   supply  gap  \n",
       "0  Supply  NaN  \n",
       "1  Supply  NaN  \n",
       "2  Supply  NaN  \n",
       "3  Supply  NaN  \n",
       "4  Supply  NaN  "
      ]
     },
     "execution_count": 42,
     "metadata": {},
     "output_type": "execute_result"
    }
   ],
   "source": [
    "uber.head()"
   ]
  },
  {
   "cell_type": "code",
   "execution_count": 43,
   "metadata": {},
   "outputs": [
    {
     "data": {
      "text/plain": [
       "6745"
      ]
     },
     "execution_count": 43,
     "metadata": {},
     "output_type": "execute_result"
    }
   ],
   "source": [
    "#calculating demand count\n",
    "uber['demand'].count()"
   ]
  },
  {
   "cell_type": "code",
   "execution_count": 44,
   "metadata": {},
   "outputs": [
    {
     "data": {
      "text/plain": [
       "2831"
      ]
     },
     "execution_count": 44,
     "metadata": {},
     "output_type": "execute_result"
    }
   ],
   "source": [
    "#calculating supply count\n",
    "uber['supply'].count()"
   ]
  },
  {
   "cell_type": "code",
   "execution_count": 45,
   "metadata": {},
   "outputs": [
    {
     "data": {
      "text/plain": [
       "3914"
      ]
     },
     "execution_count": 45,
     "metadata": {},
     "output_type": "execute_result"
    }
   ],
   "source": [
    "#calculating gap count\n",
    "uber['gap'].count()"
   ]
  },
  {
   "cell_type": "code",
   "execution_count": 46,
   "metadata": {},
   "outputs": [
    {
     "data": {
      "text/html": [
       "<div>\n",
       "<style scoped>\n",
       "    .dataframe tbody tr th:only-of-type {\n",
       "        vertical-align: middle;\n",
       "    }\n",
       "\n",
       "    .dataframe tbody tr th {\n",
       "        vertical-align: top;\n",
       "    }\n",
       "\n",
       "    .dataframe thead th {\n",
       "        text-align: right;\n",
       "    }\n",
       "</style>\n",
       "<table border=\"1\" class=\"dataframe\">\n",
       "  <thead>\n",
       "    <tr style=\"text-align: right;\">\n",
       "      <th></th>\n",
       "      <th>demand</th>\n",
       "      <th>supply</th>\n",
       "      <th>gap</th>\n",
       "    </tr>\n",
       "  </thead>\n",
       "  <tbody>\n",
       "    <tr>\n",
       "      <th>0</th>\n",
       "      <td>Demand</td>\n",
       "      <td>Supply</td>\n",
       "      <td>NaN</td>\n",
       "    </tr>\n",
       "    <tr>\n",
       "      <th>1</th>\n",
       "      <td>Demand</td>\n",
       "      <td>Supply</td>\n",
       "      <td>NaN</td>\n",
       "    </tr>\n",
       "    <tr>\n",
       "      <th>2</th>\n",
       "      <td>Demand</td>\n",
       "      <td>Supply</td>\n",
       "      <td>NaN</td>\n",
       "    </tr>\n",
       "    <tr>\n",
       "      <th>3</th>\n",
       "      <td>Demand</td>\n",
       "      <td>Supply</td>\n",
       "      <td>NaN</td>\n",
       "    </tr>\n",
       "    <tr>\n",
       "      <th>4</th>\n",
       "      <td>Demand</td>\n",
       "      <td>Supply</td>\n",
       "      <td>NaN</td>\n",
       "    </tr>\n",
       "  </tbody>\n",
       "</table>\n",
       "</div>"
      ],
      "text/plain": [
       "   demand  supply  gap\n",
       "0  Demand  Supply  NaN\n",
       "1  Demand  Supply  NaN\n",
       "2  Demand  Supply  NaN\n",
       "3  Demand  Supply  NaN\n",
       "4  Demand  Supply  NaN"
      ]
     },
     "execution_count": 46,
     "metadata": {},
     "output_type": "execute_result"
    }
   ],
   "source": [
    "uber_SupplyandDemand = pd.DataFrame([uber.demand,uber.supply,uber.gap]).transpose()\n",
    "uber_SupplyandDemand.head()"
   ]
  },
  {
   "cell_type": "code",
   "execution_count": 47,
   "metadata": {},
   "outputs": [
    {
     "data": {
      "image/png": "[encoded data removed]",
      "text/plain": [
       "<Figure size 576x576 with 1 Axes>"
      ]
     },
     "metadata": {},
     "output_type": "display_data"
    }
   ],
   "source": [
    "# plotting demand, supply and gap count\n",
    "plt.figure(num=None, figsize=(8, 8), facecolor='w', edgecolor='k')\n",
    "sns.countplot(x=\"variable\",hue=\"value\", data=pd.melt(uber_SupplyandDemand))\n",
    "plt.show()\n",
    "\n",
    "#this clearly shows that gap exist and there is huge possible to bridge the gap and increase the revenue.\n",
    "# Gap = Demand -Supply\n",
    "#Around 58.02% of 'gap' exist."
   ]
  },
  {
   "cell_type": "code",
   "execution_count": 48,
   "metadata": {},
   "outputs": [
    {
     "data": {
      "image/png": "[encoded data removed]",
      "text/plain": [
       "<Figure size 864x576 with 1 Axes>"
      ]
     },
     "metadata": {},
     "output_type": "display_data"
    }
   ],
   "source": [
    "#segmenting demand across the request time slot\n",
    "plt.figure(num=None, figsize=(12, 8), facecolor='w', edgecolor='k')\n",
    "sns.countplot(hue='demand',x=\"request_timeslot\", data=uber)\n",
    "plt.show()\n",
    "\n",
    "#Below graph shows that morning and evening has the hightest demand for cabs"
   ]
  },
  {
   "cell_type": "code",
   "execution_count": 49,
   "metadata": {},
   "outputs": [
    {
     "data": {
      "image/png": "[encoded data removed]",
      "text/plain": [
       "<Figure size 864x576 with 1 Axes>"
      ]
     },
     "metadata": {},
     "output_type": "display_data"
    }
   ],
   "source": [
    "#segmenting gap across the request time slot\n",
    "plt.figure(num=None, figsize=(12, 8), facecolor='w', edgecolor='k')\n",
    "ax =sns.countplot(x='gap',hue=\"request_timeslot\", data=uber)\n",
    "total = len(uber['gap'])\n",
    "for p in ax.patches:\n",
    "    value = round((p.get_height()/total)*100,2)\n",
    "    X = p.get_x()+0.1\n",
    "    Y = p.get_height()+10\n",
    "    ax.text(X, Y, '{:} %'.format(value), ha=\"right\")\n",
    "plt.show()\n",
    "\n",
    "#This shows that gap is mainly in the morning and evening time slot, which again is in sync with all our above findings.\n"
   ]
  },
  {
   "cell_type": "markdown",
   "metadata": {},
   "source": [
    "#### In the above graph - the percentage is taken only across the total gap percentage which is 58.02%\n",
    "\n",
    "    a. From the total gap percentage(58.02%) -around 15% gap exist during morning and evenings.\n"
   ]
  },
  {
   "cell_type": "code",
   "execution_count": 50,
   "metadata": {},
   "outputs": [
    {
     "data": {
      "image/png": "[encoded data removed]",
      "text/plain": [
       "<Figure size 580.7x504 with 1 Axes>"
      ]
     },
     "metadata": {},
     "output_type": "display_data"
    }
   ],
   "source": [
    "#segmenting gap across the status and request timeslot\n",
    "sns.catplot(x='request_timeslot',col=\"gap\", hue = 'Status',data=uber ,kind=\"count\", height=7,aspect= 0.9,ci=85)\n",
    "plt.show()\n",
    "\n",
    "\n",
    "#As gap is sum of (cancelled + No cars available) : We can see that there is no plot in trip completed(Obvious).\n",
    "# Hightest 'cancelled' gap comes from morning slot.\n",
    "# Hightest 'No car available' gap comes from evening slot."
   ]
  },
  {
   "cell_type": "code",
   "execution_count": 51,
   "metadata": {},
   "outputs": [
    {
     "data": {
      "image/png": "[encoded data removed]",
      "text/plain": [
       "<Figure size 1157.17x360 with 6 Axes>"
      ]
     },
     "metadata": {},
     "output_type": "display_data"
    }
   ],
   "source": [
    "#segmenting gap across the pickup point and request timeslot\n",
    "sns.catplot(x='gap',col=\"request_timeslot\", hue = 'Pickup_point',data=uber ,kind=\"count\", height=5,aspect= 0.5,\n",
    "            ci=85)\n",
    "plt.show()\n",
    "\n",
    "\n",
    "# the graph belows shows that:\n",
    "# 1.In the morning, City pickup has the highest gap.\n",
    "# 2. in the evening, Airport pickup has the highest gap."
   ]
  }
 ],
 "metadata": {
  "kernelspec": {
   "display_name": "Python 3 (ipykernel)",
   "language": "python",
   "name": "python3"
  },
  "language_info": {
   "codemirror_mode": {
    "name": "ipython",
    "version": 3
   },
   "file_extension": ".py",
   "mimetype": "text/x-python",
   "name": "python",
   "nbconvert_exporter": "python",
   "pygments_lexer": "ipython3",
   "version": "3.9.12"
  }
 },
 "nbformat": 4,
 "nbformat_minor": 2
}
